{
 "cells": [
  {
   "cell_type": "code",
   "execution_count": 8,
   "id": "8fdcf1f0",
   "metadata": {},
   "outputs": [
    {
     "data": {
      "text/plain": [
       "'elppa'"
      ]
     },
     "execution_count": 8,
     "metadata": {},
     "output_type": "execute_result"
    }
   ],
   "source": [
    "str = \"apple\"\n",
    "# can access like an array\n",
    "str[0]\n",
    "str[0:2]\n",
    "str[-1:-3:-1]\n",
    "str[::-1]"
   ]
  },
  {
   "cell_type": "code",
   "execution_count": null,
   "id": "21135466",
   "metadata": {},
   "outputs": [
    {
     "name": "stdout",
     "output_type": "stream",
     "text": [
      "b a n a n a \n",
      "b (<class 'str'>)\n",
      "a (<class 'str'>)\n",
      "n (<class 'str'>)\n",
      "a (<class 'str'>)\n",
      "n (<class 'str'>)\n",
      "a (<class 'str'>)\n",
      "---\n",
      "b (<class 'str'>)\n",
      "a (<class 'str'>)\n",
      "n (<class 'str'>)\n",
      "a (<class 'str'>)\n",
      "n (<class 'str'>)\n",
      "a (<class 'str'>)\n"
     ]
    }
   ],
   "source": [
    "str = \"banana\"\n",
    "\n",
    "# can iterate through like an list\n",
    "for i in range(len(str)):\n",
    "    print(str[i], end=\" \")\n",
    "print()\n",
    "# works like a list\n",
    "for ch in str:\n",
    "    print(f\"{ch} ({type(ch)})\")\n",
    "print(\"-\" * 3)\n",
    "# can also be a list\n",
    "for ch in list(str):\n",
    "    print(f\"{ch} ({type(ch)})\")\n"
   ]
  },
  {
   "cell_type": "code",
   "execution_count": 21,
   "id": "e0b67377",
   "metadata": {},
   "outputs": [
    {
     "data": {
      "text/plain": [
       "'apple\\tbanana\\torange'"
      ]
     },
     "execution_count": 21,
     "metadata": {},
     "output_type": "execute_result"
    }
   ],
   "source": [
    "fruit = [\"apple\", \"banana\", \"orange\"]\n",
    "\n",
    "# convert a list to a string\n",
    "' ** '.join(fruit) # can be joined by any string\n",
    "# great for exporting data in different formats\n",
    "\"\\t\".join(fruit)"
   ]
  },
  {
   "cell_type": "code",
   "execution_count": 23,
   "id": "679c8027",
   "metadata": {},
   "outputs": [
    {
     "data": {
      "text/plain": [
       "['123', '456', '789', ',,,,,23421342sdasdfasdf,,asdfasdfasdfasdf,,,asdfasdf']"
      ]
     },
     "execution_count": 23,
     "metadata": {},
     "output_type": "execute_result"
    }
   ],
   "source": [
    "str = \"123,456,789,,,,,,23421342sdasdfasdf,,asdfasdfasdfasdf,,,asdfasdf\"\n",
    "\n",
    "# convert the string to a list (importing)\n",
    "str.split(',', 3)"
   ]
  },
  {
   "cell_type": "code",
   "execution_count": 27,
   "id": "3a5fbb6d",
   "metadata": {},
   "outputs": [
    {
     "data": {
      "text/plain": [
       "['Sun', 'Mon', 'Tue', 'Wed', 'Thu', 'Fri', 'Sat']"
      ]
     },
     "execution_count": 27,
     "metadata": {},
     "output_type": "execute_result"
    }
   ],
   "source": [
    "data = \"SunMonTueWedThuFriSat\"\n",
    "\n",
    "# \"the algorithm\" is that they are 3 letters\n",
    "days = []\n",
    "for i in range(0,len(data),3):\n",
    "    days.append(data[i:i+3])\n",
    "days"
   ]
  },
  {
   "cell_type": "code",
   "execution_count": 33,
   "id": "1325feec",
   "metadata": {},
   "outputs": [
    {
     "name": "stdout",
     "output_type": "stream",
     "text": [
      "letter\n",
      "letter\n"
     ]
    }
   ],
   "source": [
    "# miscellaneous stuff\n",
    "letter = \"A\"\n",
    "\n",
    "if letter >= \"a\" and letter <= \"z\" or letter >= \"A\" and letter <= \"Z\":\n",
    "    print(\"letter\")\n",
    "else:\n",
    "    print(\"not a letter\")\n",
    "\n",
    "if letter.isalpha():\n",
    "    print(\"letter\")"
   ]
  },
  {
   "cell_type": "code",
   "execution_count": 35,
   "id": "fb3fc268",
   "metadata": {},
   "outputs": [
    {
     "data": {
      "text/plain": [
       "'HELLO'"
      ]
     },
     "execution_count": 35,
     "metadata": {},
     "output_type": "execute_result"
    }
   ],
   "source": [
    "word = \"Hello\"\n",
    "\n",
    "word.lower()\n",
    "word.upper()"
   ]
  },
  {
   "cell_type": "code",
   "execution_count": null,
   "id": "86f95a0c",
   "metadata": {},
   "outputs": [],
   "source": []
  }
 ],
 "metadata": {
  "kernelspec": {
   "display_name": "Python 3",
   "language": "python",
   "name": "python3"
  },
  "language_info": {
   "codemirror_mode": {
    "name": "ipython",
    "version": 3
   },
   "file_extension": ".py",
   "mimetype": "text/x-python",
   "name": "python",
   "nbconvert_exporter": "python",
   "pygments_lexer": "ipython3",
   "version": "3.13.7"
  }
 },
 "nbformat": 4,
 "nbformat_minor": 5
}
