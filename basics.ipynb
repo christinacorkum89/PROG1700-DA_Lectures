{
 "cells": [
  {
   "cell_type": "code",
   "execution_count": 1,
   "id": "56ce5950-cb31-47b0-8224-764902fb0c13",
   "metadata": {},
   "outputs": [
    {
     "name": "stdout",
     "output_type": "stream",
     "text": [
      "Hello World!\n"
     ]
    }
   ],
   "source": [
    "print(\"Hello World!\")"
   ]
  },
  {
   "cell_type": "code",
   "execution_count": 2,
   "id": "344a82dd-643a-4984-811d-21fe00bd1b5e",
   "metadata": {},
   "outputs": [],
   "source": [
    "# comment\n",
    "# this is another comment\n",
    "# here is one more \n",
    "# the pund sigh is the important thing"
   ]
  },
  {
   "cell_type": "code",
   "execution_count": 3,
   "id": "ed4bd55a-6b94-42eb-8fe0-8a91de266c05",
   "metadata": {},
   "outputs": [
    {
     "data": {
      "text/plain": [
       "'\\n    here is a \\n    multiline \\n    comment \\n    large amounts of text\\n '"
      ]
     },
     "execution_count": 3,
     "metadata": {},
     "output_type": "execute_result"
    }
   ],
   "source": [
    "## this is also a comment \n",
    "'''\n",
    "    here is a \n",
    "    multiline \n",
    "    comment \n",
    "    large amounts of text\n",
    " '''\n"
   ]
  },
  {
   "cell_type": "code",
   "execution_count": 4,
   "id": "4df0ccd6-ae71-43f5-afc1-5ac18bb7a887",
   "metadata": {},
   "outputs": [
    {
     "name": "stdout",
     "output_type": "stream",
     "text": [
      "Hello World!\n",
      "Here is something else to print.\n",
      "Here is something in 'quotes' and some numbers: 1234567\n"
     ]
    }
   ],
   "source": [
    "#the python 'print' statement \n",
    "# for the simple output \n",
    "print (\"Hello World!\")\n",
    "print (\"Here is something else to print.\")\n",
    "print (\"Here is something in 'quotes' and some numbers: 1234567\")"
   ]
  },
  {
   "cell_type": "code",
   "execution_count": 5,
   "id": "894144c9-d978-4952-be45-dabc797c1c87",
   "metadata": {},
   "outputs": [
    {
     "name": "stdout",
     "output_type": "stream",
     "text": [
      "This is a string\n"
     ]
    }
   ],
   "source": [
    "#a \"string\" is bunch alphanumeric data\n",
    "print(\"This is a string\")"
   ]
  },
  {
   "cell_type": "code",
   "execution_count": 6,
   "id": "61e0b1e6-b59e-420f-a788-ca0fb5ce654b",
   "metadata": {},
   "outputs": [
    {
     "name": "stdout",
     "output_type": "stream",
     "text": [
      "12345\n",
      "12345\n"
     ]
    }
   ],
   "source": [
    "# a integer is a number not in quotes\n",
    "print(12345)\n",
    "print(\"12345\")"
   ]
  },
  {
   "cell_type": "code",
   "execution_count": 10,
   "id": "79a132cd-c7a1-488e-b075-0c854c9c0e8d",
   "metadata": {},
   "outputs": [
    {
     "name": "stdout",
     "output_type": "stream",
     "text": [
      "Hello World! 123\n",
      "123 Somewhere st. Nova Scotia 456\n"
     ]
    }
   ],
   "source": [
    "#you can combine pieces of data together\n",
    "print(\"Hello World!\", 123)\n",
    "print(123, \"Somewhere st.\", \"Nova Scotia\", 456)"
   ]
  },
  {
   "cell_type": "code",
   "execution_count": 11,
   "id": "4307bdd4-95dd-435c-b21b-330bfa74db28",
   "metadata": {},
   "outputs": [
    {
     "name": "stdout",
     "output_type": "stream",
     "text": [
      "Hello\n",
      "World!\n"
     ]
    }
   ],
   "source": [
    "#special characters\n",
    "print(\"Hello\\nWorld!\") #\\n is a newline character"
   ]
  },
  {
   "cell_type": "code",
   "execution_count": 1,
   "id": "acafe085-03de-4731-970d-ad6b9d9db7a2",
   "metadata": {},
   "outputs": [
    {
     "name": "stdout",
     "output_type": "stream",
     "text": [
      "Sale {Price: 12345\n",
      "Sale Price:12345\n"
     ]
    }
   ],
   "source": [
    "#demonstrating different newline styles\n",
    "print(\"Sale {Price:\",12345)\n",
    "print(\"Sale Price:\", end=\"\")\n",
    "print(12345)"
   ]
  },
  {
   "cell_type": "code",
   "execution_count": 2,
   "id": "a1a4566f-d986-4ca3-aba0-ac30d71f5663",
   "metadata": {},
   "outputs": [
    {
     "name": "stdin",
     "output_type": "stream",
     "text": [
      "Enter a number: 12345\n"
     ]
    }
   ],
   "source": [
    "# getting input from the user\n",
    "user_input = input(\"Enter a number:\")"
   ]
  },
  {
   "cell_type": "code",
   "execution_count": 3,
   "id": "810c53d5-40b6-4c94-9eb7-53789325e67c",
   "metadata": {},
   "outputs": [],
   "source": [
    "# more about variables\n",
    "\n",
    "# naming convention\n",
    "# keep variable names as descriptive as possible\n",
    "# snake_case\n",
    "# keep the length of a variable name to 1, 2, or 3 words (max)\n",
    "# examples of good variable names\n",
    "user_name = \"John Doe\" # a string variable\n",
    "cost = 123.45 # a decimal variabble (floating point value)\n",
    "small_number = 3 # an integer variable \n",
    "binary_number = 0b10101010 # a binary integer\n",
    "hexadecimal = 0xABCD1234 #a hexadecimal integer\n",
    "big_number = 1234567890 # huge integer\n",
    "\n",
    "# examples of bad variable names\n",
    "# my name = \"John\" # can't have space in the variable name \n",
    "# 123 = 123 # can't use a number as a variable name\n",
    "# :) = \"smiley\" # can't use special characters other than underscore\n",
    "# aVariableName = \"stuff\" # this is \"camelCasting\" and is used on other languages\n",
    "# x = \"hello\" # make variable names descriptive!"
   ]
  },
  {
   "cell_type": "code",
   "execution_count": 7,
   "id": "f08e64f7-2cc1-499a-8b95-2ae75ef9822b",
   "metadata": {},
   "outputs": [
    {
     "name": "stdout",
     "output_type": "stream",
     "text": [
      "September 19 ,  2025\n",
      "September 19, 2025\n"
     ]
    }
   ],
   "source": [
    "# Create a script that creates three variables to hold the current day, month and year.\n",
    "# Display the current date using those variables nicely formatted.\n",
    "day = 19\n",
    "month = \"September\"\n",
    "year = \"2025\"\n",
    "print(month, day, \", \", year)\n",
    "# using an f-string instead\n",
    "print(f\"{month} {day}, {year}\")"
   ]
  },
  {
   "cell_type": "code",
   "execution_count": null,
   "id": "625033b6-52d6-4edc-9996-8a5f7521b399",
   "metadata": {},
   "outputs": [],
   "source": [
    "# user first name and last name\n",
    "# then have the \n",
    "# <first name>.<last name>@nscc.ca\n",
    "first_name = input(\"Christina:\")\n",
    "last_name = input(\"Corkum:\")\n",
    "print(f\""
   ]
  }
 ],
 "metadata": {
  "kernelspec": {
   "display_name": "Python 3 (ipykernel)",
   "language": "python",
   "name": "python3"
  },
  "language_info": {
   "codemirror_mode": {
    "name": "ipython",
    "version": 3
   },
   "file_extension": ".py",
   "mimetype": "text/x-python",
   "name": "python",
   "nbconvert_exporter": "python",
   "pygments_lexer": "ipython3",
   "version": "3.13.7"
  }
 },
 "nbformat": 4,
 "nbformat_minor": 5
}
