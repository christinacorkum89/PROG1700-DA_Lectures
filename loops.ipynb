{
 "cells": [
  {
   "cell_type": "code",
   "execution_count": 1,
   "id": "82ec97ae-d780-4993-8373-d46d78875c5a",
   "metadata": {},
   "outputs": [
    {
     "name": "stdout",
     "output_type": "stream",
     "text": [
      "looping...\n"
     ]
    }
   ],
   "source": [
    "# basic while loop\n",
    "num = 10\n",
    "while num == 10:\n",
    "    print(\"looping...\")\n",
    "    num = num + 1  # need to modify num to keep from being an infinite loop"
   ]
  },
  {
   "cell_type": "code",
   "execution_count": null,
   "id": "6117b4e5-2586-4836-8dd4-c148c54d9e48",
   "metadata": {
    "scrolled": true
   },
   "outputs": [],
   "source": [
    "# an infinite loop (don't do this!)\n",
    "#while True:\n",
    "    print(\"looping....\")"
   ]
  },
  {
   "cell_type": "code",
   "execution_count": 5,
   "id": "7b2e9dd9-aee8-43f1-9cfb-0d92a44ffb1d",
   "metadata": {},
   "outputs": [
    {
     "name": "stdout",
     "output_type": "stream",
     "text": [
      "looping... 10\n",
      "looping... 9\n",
      "looping... 8\n",
      "looping... 7\n",
      "looping... 6\n",
      "looping... 5\n",
      "looping... 4\n",
      "looping... 3\n",
      "looping... 2\n",
      "looping... 1\n"
     ]
    }
   ],
   "source": [
    "# infinite loops can be tricky\n",
    "num = 10\n",
    "while num > 0: # what if this was a less than?\n",
    "    print(f\"looping... {num}\")\n",
    "    num = num - 1 # what if this was a plus sign?"
   ]
  },
  {
   "cell_type": "code",
   "execution_count": 9,
   "id": "e6dce40e-68e3-416b-966f-62a5f0377940",
   "metadata": {},
   "outputs": [
    {
     "name": "stdout",
     "output_type": "stream",
     "text": [
      "looping...0\n",
      "looping...1\n",
      "looping...2\n",
      "looping...3\n"
     ]
    }
   ],
   "source": [
    "# break statement\n",
    "i = 0\n",
    "while i < 10:\n",
    "    # perform some actions\n",
    "    print(f\"looping...{i}\")\n",
    "    \n",
    "    if i == 3:\n",
    "        break   # will exit the loop when i is 3\n",
    "\n",
    "    i = i + 1"
   ]
  },
  {
   "cell_type": "code",
   "execution_count": 11,
   "id": "7059668a-985b-4fd4-a476-dd1b7e8543ba",
   "metadata": {},
   "outputs": [
    {
     "name": "stdin",
     "output_type": "stream",
     "text": [
      "Enter password:  password\n"
     ]
    },
    {
     "name": "stdout",
     "output_type": "stream",
     "text": [
      "You're IN!\n"
     ]
    }
   ],
   "source": [
    "# do..while\n",
    "count = 0\n",
    "while True:\n",
    "    # get password from user\n",
    "    password = input(\"Enter password: \")\n",
    "\n",
    "    # check password\n",
    "    if password == \"password\":\n",
    "        print(\"You're IN!\")\n",
    "        break\n",
    "\n",
    "    if count >= 2:\n",
    "        print(\"Password check failed.\")\n",
    "        break\n",
    "\n",
    "    count = count + 1"
   ]
  },
  {
   "cell_type": "code",
   "execution_count": 13,
   "id": "7b22c1f7-6ed9-4690-be97-34f95f8b318d",
   "metadata": {},
   "outputs": [
    {
     "name": "stdin",
     "output_type": "stream",
     "text": [
      "Enter a number (-1 to exit):  10\n",
      "Enter a number (-1 to exit):  20\n",
      "Enter a number (-1 to exit):  30\n",
      "Enter a number (-1 to exit):  -1\n"
     ]
    },
    {
     "name": "stdout",
     "output_type": "stream",
     "text": [
      "Average: 20.0\n"
     ]
    }
   ],
   "source": [
    "# an example of a sentinel value\n",
    "\n",
    "# calculate the average of some numbers\n",
    "count = 0\n",
    "sum = 0\n",
    "\n",
    "while True:\n",
    "\n",
    "    number = input(\"Enter a number (-1 to exit): \") # -1 is the sentinel value\n",
    "\n",
    "    if number == \"-1\":\n",
    "        break\n",
    "\n",
    "    sum += int(number)\n",
    "    count += 1\n",
    "\n",
    "print(f\"Average: {sum / count}\")\n",
    "    "
   ]
  },
  {
   "cell_type": "code",
   "execution_count": 16,
   "id": "16b9e843-e94b-4a01-84b3-370284f97241",
   "metadata": {},
   "outputs": [
    {
     "name": "stdout",
     "output_type": "stream",
     "text": [
      "End of year balance: $1341.21\n"
     ]
    }
   ],
   "source": [
    "# Assume you deposit $100 a month in the bank \n",
    "# and the bank gives you 2% interest compounded monthly, \n",
    "# how much would you have at the end of 12 months?\n",
    "balance = 0\n",
    "\n",
    "month = 1 # start in January\n",
    "while month <= 12:\n",
    "    # interest compounded\n",
    "    interest = balance * 0.02\n",
    "    balance += interest\n",
    "    # $100 deposit\n",
    "    balance += 100\n",
    "    \n",
    "    #print(f\"Month {month}: balance = ${balance:.2f}, interest = ${interest:.2f}\")\n",
    "    month += 1\n",
    "\n",
    "print(f\"End of year balance: ${balance:.2f}\")"
   ]
  },
  {
   "cell_type": "code",
   "execution_count": 20,
   "id": "4f5ec0d8-71d0-4663-8a41-f2043db594c7",
   "metadata": {},
   "outputs": [
    {
     "name": "stdout",
     "output_type": "stream",
     "text": [
      "month = 1\n",
      "month = 2\n",
      "month = 3\n",
      "month = 4\n",
      "month = 5\n",
      "month = 6\n",
      "month = 7\n",
      "month = 8\n",
      "month = 9\n",
      "month = 10\n",
      "month = 11\n",
      "month = 12\n"
     ]
    }
   ],
   "source": [
    "# for loop\n",
    "for month in range(1, 13):\n",
    "    print(f\"month = {month}\")"
   ]
  },
  {
   "cell_type": "code",
   "execution_count": 19,
   "id": "87c366aa-fc4f-4b9b-b0c7-1553604ef2b7",
   "metadata": {},
   "outputs": [
    {
     "data": {
      "text/plain": [
       "range(0, 12)"
      ]
     },
     "execution_count": 19,
     "metadata": {},
     "output_type": "execute_result"
    }
   ],
   "source": [
    "# ranges\n",
    "range(12)"
   ]
  },
  {
   "cell_type": "code",
   "execution_count": 22,
   "id": "3e88461d-2e86-4d40-a6a2-efb6e5966fc1",
   "metadata": {},
   "outputs": [
    {
     "name": "stdout",
     "output_type": "stream",
     "text": [
      "2\n",
      "5\n",
      "8\n",
      "11\n",
      "14\n",
      "17\n",
      "20\n",
      "23\n",
      "26\n",
      "29\n",
      "32\n"
     ]
    }
   ],
   "source": [
    "for i in range(2, 35, 3):\n",
    "    print(i)"
   ]
  },
  {
   "cell_type": "code",
   "execution_count": 23,
   "id": "728c784e-f4a9-4a11-b097-efe659cf1262",
   "metadata": {},
   "outputs": [
    {
     "name": "stdout",
     "output_type": "stream",
     "text": [
      "20\n",
      "18\n",
      "16\n",
      "14\n",
      "12\n"
     ]
    }
   ],
   "source": [
    "for i in range(20, 10, -2):\n",
    "    print(i)"
   ]
  },
  {
   "cell_type": "code",
   "execution_count": 24,
   "id": "8826a38d-3e5a-46e3-9370-943878fa36e0",
   "metadata": {},
   "outputs": [
    {
     "name": "stdout",
     "output_type": "stream",
     "text": [
      "i=0, j=0\n",
      "i=0, j=1\n",
      "i=0, j=2\n",
      "i=0, j=3\n",
      "i=0, j=4\n",
      "i=1, j=0\n",
      "i=1, j=1\n",
      "i=1, j=2\n",
      "i=1, j=3\n",
      "i=1, j=4\n",
      "i=2, j=0\n",
      "i=2, j=1\n",
      "i=2, j=2\n",
      "i=2, j=3\n",
      "i=2, j=4\n",
      "i=3, j=0\n",
      "i=3, j=1\n",
      "i=3, j=2\n",
      "i=3, j=3\n",
      "i=3, j=4\n",
      "i=4, j=0\n",
      "i=4, j=1\n",
      "i=4, j=2\n",
      "i=4, j=3\n",
      "i=4, j=4\n",
      "i=5, j=0\n",
      "i=5, j=1\n",
      "i=5, j=2\n",
      "i=5, j=3\n",
      "i=5, j=4\n",
      "i=6, j=0\n",
      "i=6, j=1\n",
      "i=6, j=2\n",
      "i=6, j=3\n",
      "i=6, j=4\n",
      "i=7, j=0\n",
      "i=7, j=1\n",
      "i=7, j=2\n",
      "i=7, j=3\n",
      "i=7, j=4\n",
      "i=8, j=0\n",
      "i=8, j=1\n",
      "i=8, j=2\n",
      "i=8, j=3\n",
      "i=8, j=4\n",
      "i=9, j=0\n",
      "i=9, j=1\n",
      "i=9, j=2\n",
      "i=9, j=3\n",
      "i=9, j=4\n"
     ]
    }
   ],
   "source": [
    "# nested loops\n",
    "i = 0\n",
    "while i < 10:\n",
    "    j = 0\n",
    "    while j < 5:\n",
    "        print(f\"i={i}, j={j}\")\n",
    "        j = j + 1\n",
    "    i = i + 1"
   ]
  },
  {
   "cell_type": "code",
   "execution_count": 29,
   "id": "22f7ba7d-92ab-45fd-9ecf-3e7392b693fb",
   "metadata": {},
   "outputs": [
    {
     "name": "stdout",
     "output_type": "stream",
     "text": [
      "     o\n",
      "    oo\n",
      "   ooo\n",
      "  oooo\n",
      " ooooo\n",
      "oooooo\n"
     ]
    }
   ],
   "source": [
    "# draw a triangle\n",
    "\n",
    "#      o\n",
    "#     oo\n",
    "#    ooo\n",
    "#   oooo\n",
    "#  ooooo\n",
    "# oooooo\n",
    "\n",
    "for line in range(1, 7):\n",
    "    for spaces in range(6-line):\n",
    "        print(\" \", end=\"\")\n",
    "    for ohs in range(line):\n",
    "        print(\"o\", end=\"\")\n",
    "    print()\n"
   ]
  },
  {
   "cell_type": "code",
   "execution_count": 33,
   "id": "fa958779-97e6-4370-8d90-8754d58ac6c5",
   "metadata": {},
   "outputs": [
    {
     "name": "stdout",
     "output_type": "stream",
     "text": [
      "     o\n",
      "    oo\n",
      "   ooo\n",
      "  oooo\n",
      " ooooo\n",
      "oooooo\n"
     ]
    }
   ],
   "source": [
    "for line in range(1, 7):\n",
    "    print(\" \" * (6-line) + \"o\" * line)\n"
   ]
  },
  {
   "cell_type": "code",
   "execution_count": null,
   "id": "3b877324-2576-4dd8-9fc5-f7ba93017c7f",
   "metadata": {},
   "outputs": [],
   "source": []
  }
 ],
 "metadata": {
  "kernelspec": {
   "display_name": "Python 3 (ipykernel)",
   "language": "python",
   "name": "python3"
  },
  "language_info": {
   "codemirror_mode": {
    "name": "ipython",
    "version": 3
   },
   "file_extension": ".py",
   "mimetype": "text/x-python",
   "name": "python",
   "nbconvert_exporter": "python",
   "pygments_lexer": "ipython3",
   "version": "3.13.7"
  }
 },
 "nbformat": 4,
 "nbformat_minor": 5
}
